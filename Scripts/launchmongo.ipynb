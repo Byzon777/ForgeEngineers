{
 "cells": [
  {
   "cell_type": "markdown",
   "metadata": {},
   "source": [
    "## Populating data"
   ]
  },
  {
   "cell_type": "markdown",
   "metadata": {},
   "source": [
    "### songs nested into playlists"
   ]
  },
  {
   "cell_type": "code",
   "execution_count": 2,
   "metadata": {},
   "outputs": [],
   "source": [
    "import pandas as pd\n",
    "from pymongo import MongoClient\n",
    "\n",
    "songs_df = pd.read_csv('https://raw.githubusercontent.com/Byzon777/ForgeEngineers/refs/heads/main/Tables/songs.csv')\n",
    "playlists_df = pd.read_csv('https://raw.githubusercontent.com/Byzon777/ForgeEngineers/refs/heads/main/Tables/playlists.csv')\n",
    "\n",
    "# split song id's by commas\n",
    "def parse_song_ids(s):\n",
    "    return [sid.strip() for sid in str(s).split(',') if sid.strip()]\n",
    "\n",
    "# dic of song id and song info\n",
    "songs_by_id = songs_df.set_index('song_id').to_dict(orient='index')"
   ]
  },
  {
   "cell_type": "code",
   "execution_count": 3,
   "metadata": {},
   "outputs": [],
   "source": [
    "# loop through each row in playlists\n",
    "playlist_docs = []\n",
    "for _, row in playlists_df.iterrows():\n",
    "    song_ids = parse_song_ids(row['Songs'])\n",
    "    nested_songs = [songs_by_id[sid] for sid in song_ids if sid in songs_by_id] # getting song info for each song id\n",
    "    \n",
    "    # making document structure\n",
    "    playlist_doc = {\n",
    "        'playlist_name': row['Playlist_name'],\n",
    "        'user_id':       row['User_id'],\n",
    "        'genre':         row['Genre'],\n",
    "        'listens':       row['Listens'],\n",
    "        'songs':         nested_songs\n",
    "    }\n",
    "    playlist_docs.append(playlist_doc)"
   ]
  },
  {
   "cell_type": "code",
   "execution_count": 4,
   "metadata": {},
   "outputs": [],
   "source": [
    "# populate in mongo\n",
    "client = MongoClient('mongodb://localhost:27017/')\n",
    "db = client['music_database'] # music database\n",
    "playlists_col = db['playlists'] # playlist collection\n",
    "result = playlists_col.insert_many(playlist_docs)"
   ]
  },
  {
   "cell_type": "markdown",
   "metadata": {},
   "source": [
    "### artist, parent company, songs nested into albums"
   ]
  },
  {
   "cell_type": "code",
   "execution_count": 5,
   "metadata": {},
   "outputs": [],
   "source": [
    "albums_df  = pd.read_csv('https://raw.githubusercontent.com/Byzon777/ForgeEngineers/refs/heads/main/Tables/albums.csv')\n",
    "artists_df = pd.read_csv('https://raw.githubusercontent.com/Byzon777/ForgeEngineers/refs/heads/main/Tables/artists.csv')\n",
    "\n",
    "# merge albums and artists on artist id\n",
    "merged_df = albums_df.merge(\n",
    "    artists_df,\n",
    "    on='artist_id',\n",
    "    suffixes=('', '_artist')\n",
    ")"
   ]
  },
  {
   "cell_type": "code",
   "execution_count": 6,
   "metadata": {},
   "outputs": [],
   "source": [
    "parent_df = pd.read_csv('https://raw.githubusercontent.com/Byzon777/ForgeEngineers/refs/heads/main/Tables/parent_company.csv')\n",
    "\n",
    "# get rid of spaces\n",
    "parent_df.columns = parent_df.columns.str.strip()\n",
    "parent_df = parent_df.rename(columns={'Album Id': 'album_id'}) # rename column\n",
    "\n",
    "# add parent to merged df\n",
    "merged_df = merged_df.merge(\n",
    "    parent_df,\n",
    "    on='album_id',\n",
    "    suffixes=('', '_parent'),\n",
    "    how='left'\n",
    ")"
   ]
  },
  {
   "cell_type": "code",
   "execution_count": 7,
   "metadata": {},
   "outputs": [
    {
     "data": {
      "text/html": [
       "<div>\n",
       "<style scoped>\n",
       "    .dataframe tbody tr th:only-of-type {\n",
       "        vertical-align: middle;\n",
       "    }\n",
       "\n",
       "    .dataframe tbody tr th {\n",
       "        vertical-align: top;\n",
       "    }\n",
       "\n",
       "    .dataframe thead th {\n",
       "        text-align: right;\n",
       "    }\n",
       "</style>\n",
       "<table border=\"1\" class=\"dataframe\">\n",
       "  <thead>\n",
       "    <tr style=\"text-align: right;\">\n",
       "      <th></th>\n",
       "      <th>album_id</th>\n",
       "      <th>name</th>\n",
       "      <th>artist_name</th>\n",
       "      <th>artist_id</th>\n",
       "      <th>year</th>\n",
       "      <th>genre</th>\n",
       "      <th>track_count</th>\n",
       "      <th>revenue (mln USD)</th>\n",
       "      <th>name_artist</th>\n",
       "      <th>city</th>\n",
       "      <th>country</th>\n",
       "      <th>followers</th>\n",
       "      <th>gender</th>\n",
       "      <th>Artist</th>\n",
       "      <th>Year of Release</th>\n",
       "      <th>Parent Company</th>\n",
       "    </tr>\n",
       "  </thead>\n",
       "  <tbody>\n",
       "    <tr>\n",
       "      <th>0</th>\n",
       "      <td>AL001</td>\n",
       "      <td>Midnights</td>\n",
       "      <td>Taylor Swift</td>\n",
       "      <td>A001</td>\n",
       "      <td>2022</td>\n",
       "      <td>Pop</td>\n",
       "      <td>13</td>\n",
       "      <td>194.0</td>\n",
       "      <td>Taylor Swift</td>\n",
       "      <td>Reading</td>\n",
       "      <td>USA</td>\n",
       "      <td>92,000,000</td>\n",
       "      <td>Female</td>\n",
       "      <td>Taylor Swift</td>\n",
       "      <td>2022</td>\n",
       "      <td>Universal Music Group</td>\n",
       "    </tr>\n",
       "    <tr>\n",
       "      <th>1</th>\n",
       "      <td>AL002</td>\n",
       "      <td>Un Verano Sin Ti</td>\n",
       "      <td>Bad Bunny</td>\n",
       "      <td>A002</td>\n",
       "      <td>2022</td>\n",
       "      <td>Reggaeton</td>\n",
       "      <td>23</td>\n",
       "      <td>476.0</td>\n",
       "      <td>Bad Bunny</td>\n",
       "      <td>San Juan</td>\n",
       "      <td>Puerto Rico</td>\n",
       "      <td>72,000,000</td>\n",
       "      <td>Male</td>\n",
       "      <td>Bad Bunny</td>\n",
       "      <td>2022</td>\n",
       "      <td>Rimas Entertainment</td>\n",
       "    </tr>\n",
       "    <tr>\n",
       "      <th>2</th>\n",
       "      <td>AL003</td>\n",
       "      <td>BE</td>\n",
       "      <td>BTS</td>\n",
       "      <td>A003</td>\n",
       "      <td>2020</td>\n",
       "      <td>K-Pop</td>\n",
       "      <td>8</td>\n",
       "      <td>369.0</td>\n",
       "      <td>BTS</td>\n",
       "      <td>Seoul</td>\n",
       "      <td>South Korea</td>\n",
       "      <td>75,000,000</td>\n",
       "      <td>Male</td>\n",
       "      <td>BTS</td>\n",
       "      <td>2020</td>\n",
       "      <td>HYBE Corporation</td>\n",
       "    </tr>\n",
       "    <tr>\n",
       "      <th>3</th>\n",
       "      <td>AL004</td>\n",
       "      <td>Happier Than Ever</td>\n",
       "      <td>Billie Eilish</td>\n",
       "      <td>A004</td>\n",
       "      <td>2021</td>\n",
       "      <td>Pop</td>\n",
       "      <td>16</td>\n",
       "      <td>303.0</td>\n",
       "      <td>Billie Eilish</td>\n",
       "      <td>Los Angeles</td>\n",
       "      <td>USA</td>\n",
       "      <td>68,000,000</td>\n",
       "      <td>Female</td>\n",
       "      <td>Billie Eilish</td>\n",
       "      <td>2021</td>\n",
       "      <td>Universal Music Group</td>\n",
       "    </tr>\n",
       "    <tr>\n",
       "      <th>4</th>\n",
       "      <td>AL005</td>\n",
       "      <td>Future Nostalgia</td>\n",
       "      <td>Dua Lipa</td>\n",
       "      <td>A005</td>\n",
       "      <td>2020</td>\n",
       "      <td>Pop</td>\n",
       "      <td>11</td>\n",
       "      <td>86.0</td>\n",
       "      <td>Dua Lipa</td>\n",
       "      <td>London</td>\n",
       "      <td>UK</td>\n",
       "      <td>58,000,000</td>\n",
       "      <td>Female</td>\n",
       "      <td>Dua Lipa</td>\n",
       "      <td>2020</td>\n",
       "      <td>Warner Music Group</td>\n",
       "    </tr>\n",
       "  </tbody>\n",
       "</table>\n",
       "</div>"
      ],
      "text/plain": [
       "  album_id               name    artist_name artist_id  year      genre  \\\n",
       "0    AL001          Midnights   Taylor Swift      A001  2022        Pop   \n",
       "1    AL002   Un Verano Sin Ti      Bad Bunny      A002  2022  Reggaeton   \n",
       "2    AL003                 BE            BTS      A003  2020      K-Pop   \n",
       "3    AL004  Happier Than Ever  Billie Eilish      A004  2021        Pop   \n",
       "4    AL005   Future Nostalgia       Dua Lipa      A005  2020        Pop   \n",
       "\n",
       "   track_count  revenue (mln USD)    name_artist         city      country  \\\n",
       "0           13              194.0   Taylor Swift      Reading          USA   \n",
       "1           23              476.0      Bad Bunny     San Juan  Puerto Rico   \n",
       "2            8              369.0            BTS        Seoul  South Korea   \n",
       "3           16              303.0  Billie Eilish  Los Angeles          USA   \n",
       "4           11               86.0       Dua Lipa       London           UK   \n",
       "\n",
       "    followers  gender         Artist  Year of Release         Parent Company  \n",
       "0  92,000,000  Female   Taylor Swift             2022  Universal Music Group  \n",
       "1  72,000,000    Male      Bad Bunny             2022    Rimas Entertainment  \n",
       "2  75,000,000    Male            BTS             2020       HYBE Corporation  \n",
       "3  68,000,000  Female  Billie Eilish             2021  Universal Music Group  \n",
       "4  58,000,000  Female       Dua Lipa             2020     Warner Music Group  "
      ]
     },
     "execution_count": 7,
     "metadata": {},
     "output_type": "execute_result"
    }
   ],
   "source": [
    "merged_df.head()"
   ]
  },
  {
   "cell_type": "code",
   "execution_count": 8,
   "metadata": {},
   "outputs": [
    {
     "name": "stderr",
     "output_type": "stream",
     "text": [
      "/var/folders/pw/r039mjv14tx5v58l0m9yjvkc0000gn/T/ipykernel_40729/3045886409.py:5: DeprecationWarning: DataFrameGroupBy.apply operated on the grouping columns. This behavior is deprecated, and in a future version of pandas the grouping columns will be excluded from the operation. Either pass `include_groups=False` to exclude the groupings or explicitly select the grouping columns after groupby to silence this warning.\n",
      "  .apply(lambda df: df.to_dict(orient='records'))\n"
     ]
    }
   ],
   "source": [
    "songs_df = pd.read_csv('https://raw.githubusercontent.com/Byzon777/ForgeEngineers/refs/heads/main/Tables/songs.csv')\n",
    "songs_by_album = (\n",
    "    songs_df\n",
    "    .groupby('album name')\n",
    "    .apply(lambda df: df.to_dict(orient='records'))\n",
    "    .to_dict()\n",
    ")"
   ]
  },
  {
   "cell_type": "code",
   "execution_count": 9,
   "metadata": {},
   "outputs": [],
   "source": [
    "documents = []\n",
    "for _, row in merged_df.iterrows():\n",
    "    # album document\n",
    "    album_doc = { col: row[col] for col in albums_df.columns }\n",
    "\n",
    "    # nested artist dict\n",
    "    artist_doc = {\n",
    "        col: row[f\"{col}_artist\"] if f\"{col}_artist\" in row else row[col]\n",
    "        for col in artists_df.columns\n",
    "    }\n",
    "    album_doc['artist'] = artist_doc\n",
    "\n",
    "    # nested parent company dict\n",
    "    parent_doc = {\n",
    "        col: row[f\"{col}_parent\"] if f\"{col}_parent\" in row else row[col]\n",
    "        for col in parent_df.columns\n",
    "    }\n",
    "    album_doc['parent_company'] = parent_doc\n",
    "\n",
    "    # nested songs dict\n",
    "    album_title = row['name']\n",
    "    album_doc['songs'] = songs_by_album.get(album_title, [])\n",
    "\n",
    "    documents.append(album_doc)\n"
   ]
  },
  {
   "cell_type": "code",
   "execution_count": 10,
   "metadata": {},
   "outputs": [],
   "source": [
    "# populate in mongo\n",
    "client = MongoClient('mongodb://localhost:27017/')\n",
    "db = client['music_database']\n",
    "albums_col = db['albums']\n",
    "result = albums_col.insert_many(documents)"
   ]
  },
  {
   "cell_type": "markdown",
   "metadata": {},
   "source": [
    "## Querying"
   ]
  },
  {
   "cell_type": "code",
   "execution_count": 83,
   "metadata": {},
   "outputs": [
    {
     "name": "stdout",
     "output_type": "stream",
     "text": [
      "The Kids Are Coming\n",
      "Tones and I\n",
      "493.57 million USD\n"
     ]
    }
   ],
   "source": [
    "# Which album had the most revenue\n",
    "top_rev_album = albums_col.find_one(sort=[(\"revenue (mln USD)\", -1)])\n",
    "print(top_rev_album['name'])\n",
    "print(top_rev_album['artist_name'])\n",
    "print(str(top_rev_album['revenue (mln USD)'])+ \" million USD\")"
   ]
  },
  {
   "cell_type": "code",
   "execution_count": 84,
   "metadata": {},
   "outputs": [
    {
     "name": "stdout",
     "output_type": "stream",
     "text": [
      "Most popular: The Kids Are Coming\n",
      "Tones and I\n",
      "493.57 million USD\n",
      "Least popular: Gloria\n",
      "Sam Smith\n",
      "12.71 million USD\n"
     ]
    }
   ],
   "source": [
    "import pprint\n",
    "\n",
    "# most/least popular album\n",
    "# pprint.pprint(top_rev_album)\n",
    "print('Most popular: ' + top_rev_album['name'])\n",
    "print(top_rev_album['artist_name'])\n",
    "print(str(top_rev_album['revenue (mln USD)'])+ \" million USD\")\n",
    "\n",
    "least_pop_album = albums_col.find_one(sort=[('revenue (mln USD)', 1)])\n",
    "print('Least popular: ' + least_pop_album['name'])\n",
    "print(least_pop_album['artist_name'])\n",
    "print(str(least_pop_album['revenue (mln USD)'])+ \" million USD\")\n"
   ]
  },
  {
   "cell_type": "code",
   "execution_count": 85,
   "metadata": {},
   "outputs": [
    {
     "name": "stdout",
     "output_type": "stream",
     "text": [
      "Most popular playlist: Electronic Edge, 9488 listens\n",
      "Least popular playlist: Indie Rock Revival, 205 listens\n"
     ]
    }
   ],
   "source": [
    "# most/least popular playlist\n",
    "most_pop_playlist = playlists_col.find_one(sort=[('listens', -1)])\n",
    "least_pop_playlist = playlists_col.find_one(sort=[('listens', 1)])\n",
    "#pprint.pprint(most_pop_playlist)\n",
    "print('Most popular playlist: ' + most_pop_playlist['playlist_name'] + ', ' + str(most_pop_playlist['listens']) + ' listens')\n",
    "print('Least popular playlist: ' + least_pop_playlist['playlist_name'] + ', ' + str(least_pop_playlist['listens']) + ' listens')"
   ]
  },
  {
   "cell_type": "code",
   "execution_count": 86,
   "metadata": {},
   "outputs": [
    {
     "name": "stdout",
     "output_type": "stream",
     "text": [
      "Most popular artist: Taylor Swift: 92,000,000 followers\n",
      "Least popular artist: RIT: 1,200,000 followers\n"
     ]
    }
   ],
   "source": [
    "# most/least popular artist\n",
    "most_pop_artist = albums_col.find_one(sort=[('artist.followers', -1)])\n",
    "least_pop_artist = albums_col.find_one(sort=[('artist.followers', 1)])\n",
    "#pprint.pprint(most_pop_artist)\n",
    "print('Most popular artist: ' + most_pop_artist['artist_name'] + ': '+ str(most_pop_artist['artist']['followers']) + ' followers')\n",
    "print('Least popular artist: ' + least_pop_artist['artist_name'] + ': '+ str(least_pop_artist['artist']['followers']) + ' followers')"
   ]
  },
  {
   "cell_type": "code",
   "execution_count": 87,
   "metadata": {},
   "outputs": [
    {
     "name": "stdout",
     "output_type": "stream",
     "text": [
      "[{'_id': 'Canada', 'count': 4},\n",
      " {'_id': 'New Zealand', 'count': 2},\n",
      " {'_id': 'Ireland', 'count': 1},\n",
      " {'_id': 'Colombia', 'count': 3},\n",
      " {'_id': 'Australia', 'count': 1},\n",
      " {'_id': 'Netherlands', 'count': 1},\n",
      " {'_id': 'Iceland', 'count': 1},\n",
      " {'_id': 'USA', 'count': 21},\n",
      " {'_id': 'Nigeria', 'count': 3},\n",
      " {'_id': 'UK', 'count': 10},\n",
      " {'_id': 'Indonesia', 'count': 1},\n",
      " {'_id': 'Mexico', 'count': 1},\n",
      " {'_id': 'Belgium', 'count': 1},\n",
      " {'_id': 'Venezuela', 'count': 1},\n",
      " {'_id': 'Spain', 'count': 1},\n",
      " {'_id': 'France', 'count': 1},\n",
      " {'_id': 'South Africa', 'count': 1},\n",
      " {'_id': 'Puerto Rico', 'count': 1},\n",
      " {'_id': 'South Korea', 'count': 4},\n",
      " {'_id': 'Brazil', 'count': 1}]\n"
     ]
    }
   ],
   "source": [
    "# how many artists from each country\n",
    "pipeline = [\n",
    "    {\"$group\": {\"_id\": \"$artist.artist_id\", \"country\": {\"$first\": \"$artist.country\"}}},\n",
    "    {\"$group\": {\"_id\": \"$country\", \"count\": {\"$sum\": 1}}}\n",
    "]\n",
    "result = list(albums_col.aggregate(pipeline))\n",
    "pprint.pprint(result)"
   ]
  },
  {
   "cell_type": "code",
   "execution_count": 88,
   "metadata": {},
   "outputs": [
    {
     "name": "stdout",
     "output_type": "stream",
     "text": [
      "[{'_id': 'Hip-Hop', 'count': 9},\n",
      " {'_id': 'Afrobeats', 'count': 7},\n",
      " {'_id': 'Alternative', 'count': 6},\n",
      " {'_id': 'K-Pop', 'count': 6},\n",
      " {'_id': 'Indie', 'count': 6},\n",
      " {'_id': 'Latin', 'count': 4},\n",
      " {'_id': 'Lo-Fi', 'count': 4},\n",
      " {'_id': 'Synthpop', 'count': 3},\n",
      " {'_id': 'Country', 'count': 3},\n",
      " {'_id': 'Jazz', 'count': 3},\n",
      " {'_id': 'Reggaeton', 'count': 3},\n",
      " {'_id': 'R&B', 'count': 2},\n",
      " {'_id': 'Electronic', 'count': 2},\n",
      " {'_id': 'Pop', 'count': 1},\n",
      " {'_id': 'Rock', 'count': 1}]\n"
     ]
    }
   ],
   "source": [
    "# how many playlists are made in each genre?\n",
    "playlistpipeline = [\n",
    "    {\"$group\": {\"_id\": \"$genre\", \"count\": {\"$sum\": 1}}},\n",
    "    {\"$sort\": {\"count\": -1}}]\n",
    "\n",
    "topplaylistresult = list(playlists_col.aggregate(playlistpipeline))\n",
    "pprint.pprint(topplaylistresult)\n"
   ]
  },
  {
   "cell_type": "code",
   "execution_count": 89,
   "metadata": {},
   "outputs": [
    {
     "name": "stdout",
     "output_type": "stream",
     "text": [
      "[{'_id': 'Hip-Hop', 'total_listens': 49775}]\n"
     ]
    }
   ],
   "source": [
    "# how many listens did hip hop playlists get?\n",
    "pipeline_listens_per_genre = [\n",
    "    {\"$group\": {\"_id\": \"$genre\", \"total_listens\": {\"$sum\": \"$listens\"}}},\n",
    "    {\"$sort\": {\"total_listens\": -1}},\n",
    "    {\"$limit\": 1}\n",
    "]\n",
    "\n",
    "result_listens_per_genre = list(playlists_col.aggregate(pipeline_listens_per_genre))\n",
    "print(result_listens_per_genre)"
   ]
  },
  {
   "cell_type": "code",
   "execution_count": 109,
   "metadata": {},
   "outputs": [
    {
     "name": "stdout",
     "output_type": "stream",
     "text": [
      "[{'_id': 'Universal Music Group', 'count': 18}]\n"
     ]
    }
   ],
   "source": [
    "# company with most artists\n",
    "\n",
    "pipeline = [\n",
    "    {\"$group\": {\"_id\": \"$artist.artist_id\", \"parent_company\": { \"$first\": \"$parent_company.Parent Company\" }}},\n",
    "    {\"$group\": {\"_id\": \"$parent_company\",\"count\": { \"$sum\": 1 }}},\n",
    "    { \"$sort\": { \"count\": -1 } },\n",
    "    { \"$limit\": 1 }\n",
    "]\n",
    "\n",
    "result = list(albums_col.aggregate(pipeline))\n",
    "print(result)"
   ]
  },
  {
   "cell_type": "code",
   "execution_count": null,
   "metadata": {},
   "outputs": [
    {
     "name": "stdout",
     "output_type": "stream",
     "text": [
      "[{'_id': 'Universal Music Group', 'total_revenue': 7169.8}]\n"
     ]
    }
   ],
   "source": [
    "# company with most album revenue\n",
    "pipeline = [\n",
    "    {\"$group\": {\"_id\": \"$parent_company.Parent Company\", \"total_revenue\": {\"$sum\": \"$revenue (mln USD)\"}}},\n",
    "    {\"$sort\": {\"total_revenue\": -1}},\n",
    "    {\"$limit\": 1}\n",
    "]\n",
    "\n",
    "result = list(albums_col.aggregate(pipeline))\n",
    "print(result)\n"
   ]
  }
 ],
 "metadata": {
  "kernelspec": {
   "display_name": "Python 3",
   "language": "python",
   "name": "python3"
  },
  "language_info": {
   "codemirror_mode": {
    "name": "ipython",
    "version": 3
   },
   "file_extension": ".py",
   "mimetype": "text/x-python",
   "name": "python",
   "nbconvert_exporter": "python",
   "pygments_lexer": "ipython3",
   "version": "3.12.1"
  }
 },
 "nbformat": 4,
 "nbformat_minor": 2
}
